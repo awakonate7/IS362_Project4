{
 "cells": [
  {
   "cell_type": "markdown",
   "id": "f9f7f9e2",
   "metadata": {},
   "source": [
    "Project 4 - Predictive Analysis using scikit-learn\n",
    "Awa Konate - IS 362\n",
    "\n",
    "Task:\n",
    "\n",
    "-Start with the mushroom data in the pandas DataFrame that you constructed in your “Assignment – Preprocessing Data with sci-kit learn.”\n",
    "-Use scikit-learn to determine which of the two predictor columns that you selected (odor and one other column of your choice) most accurately predicts whether or not a mushroom is poisonous. There is an additional challenge here—to use scikit-learn’s predictive classifiers, you’ll want to convert each of your two (numeric categorical) predictor columns into a set of columns. See for one approach pandas get_dummies() method.\n",
    "-Clearly state your conclusions along with any recommendations for further analysis."
   ]
  },
  {
   "cell_type": "code",
   "execution_count": null,
   "id": "b2ffe4ba",
   "metadata": {},
   "outputs": [],
   "source": [
    "# Importing required modules\n",
    "import numpy as np\n",
    "import pandas as pd\n",
    "from matplotlib import pyplot as plt\n",
    "import seaborn as sns\n",
    "import sklearn.model_selection\n",
    "from sklearn import metrics\n",
    "from sklearn.linear_model import LinearRegression\n",
    "from sklearn.model_selection import train_test_split as ttsplit\n",
    "\n",
    "%matplotlib inline\n"
   ]
  },
  {
   "cell_type": "markdown",
   "id": "438f9251",
   "metadata": {},
   "source": [
    "Attribute Information:\n",
    "\n",
    "1. cap-shape: bell=b,conical=c,convex=x,flat=f, knobbed=k,sunken=s\n",
    "2. cap-surface: fibrous=f,grooves=g,scaly=y,smooth=s\n",
    "3. cap-color: brown=n,buff=b,cinnamon=c,gray=g,green=r, pink=p,purple=u,red=e,white=w,yellow=y\n",
    "4. bruises?: bruises=t,no=f\n",
    "5. odor: almond=a,anise=l,creosote=c,fishy=y,foul=f, musty=m,none=n,pungent=p,spicy=s\n",
    "6. gill-attachment: attached=a,descending=d,free=f,notched=n\n",
    "7. gill-spacing: close=c,crowded=w,distant=d\n",
    "8. gill-size: broad=b,narrow=n\n",
    "9. gill-color: black=k,brown=n,buff=b,chocolate=h,gray=g, green=r,orange=o,pink=p,purple=u,red=e,white=w,yellow=y\n",
    "10. stalk-shape: enlarging=e,tapering=t\n",
    "11. stalk-root: bulbous=b,club=c,cup=u,equal=e, rhizomorphs=z,rooted=r,missing=?\n",
    "12. stalk-surface-above-ring:fibrous=f,scaly=y,silky=k,smooth=s\n",
    "13. stalk-surface-below-ring:fibrous=f,scaly=y,silky=k,smooth=s\n",
    "14. stalk-color-above-ring: brown=n,buff=b,cinnamon=c,gray=g,orange=o, pink=p,red=e,white=w,yellow=y\n",
    "15. stalk-color-below-ring: brown=n,buff=b,cinnamon=c,gray=g,orange=o, pink=p,red=e,white=w,yellow=y\n",
    "16. veil-type: partial=p,universal=u\n",
    "17. veil-color: brown=n,orange=o,white=w,yellow=y\n",
    "18. ring-number: none=n,one=o,two=t\n",
    "19. ring-type: cobwebby=c,evanescent=e,flaring=f,large=l, none=n,pendant=p,sheathing=s,zone=z\n",
    "20. spore-print-color: black=k,brown=n,buff=b,chocolate=h,green=r, orange=o,purple=u,white=w,yellow=y\n",
    "21. population: abundant=a,clustered=c,numerous=n, scattered=s,several=v,solitary=y\n",
    "22. habitat: grasses=g,leaves=l,meadows=m,paths=p, urban=u,waste=w,woods=d"
   ]
  },
  {
   "cell_type": "code",
   "execution_count": null,
   "id": "5ff9f621",
   "metadata": {},
   "outputs": [],
   "source": [
    "#Reading CSV and converting to dataframe\n",
    "data = pd.read_csv('https://archive.ics.uci.edu/ml/machine-learning-databases/mushroom/agaricus-lepiota.data', \n",
    "                  sep = ',', \n",
    "                  header = None, \n",
    "                  usecols = [0,3,5], \n",
    "                  names = [\"Mushroom_Class\", \"Cap_Color\", \"Odor\"])\n",
    "data.head(5)"
   ]
  },
  {
   "cell_type": "code",
   "execution_count": null,
   "id": "9e963bac",
   "metadata": {},
   "outputs": [],
   "source": [
    "\tMushroom_Class\tCap_Color\tOdor\n",
    "0\tp\tn\tp\n",
    "1\te\ty\ta\n",
    "2\te\tw\tl\n",
    "3\tp\tw\tp\n",
    "4\te\tg\tn"
   ]
  },
  {
   "cell_type": "code",
   "execution_count": null,
   "id": "4fb49860",
   "metadata": {},
   "outputs": [],
   "source": [
    "## Converting data to numeric values\n",
    "data.replace(to_replace={\"Mushroom_Class\":{'p':1, 'e':0}}, inplace = True)\n",
    "data.replace(to_replace={\"Cap_Color\":{'n':0, 'b':1, 'c':2, 'g':3, 'r':4, 'p':5, 'u':6, 'e':7, 'w':8, 'y':9}}, inplace=True)\n",
    "data.replace(to_replace={\"Odor\":{'a':0, 'l':1, 'c':2, 'y':3, 'f':4, 'm':5, 'n':6, 'p':7, 's':8}}, inplace=True)\n",
    "data.head(5)"
   ]
  },
  {
   "cell_type": "code",
   "execution_count": null,
   "id": "2dc57a32",
   "metadata": {},
   "outputs": [],
   "source": [
    "\tMushroom_Class\tCap_Color\tOdor\n",
    "0\t1\t0\t7\n",
    "1\t0\t9\t0\n",
    "2\t0\t8\t1\n",
    "3\t1\t8\t7\n",
    "4\t0\t3\t6"
   ]
  },
  {
   "cell_type": "code",
   "execution_count": null,
   "id": "5b6be8bf",
   "metadata": {},
   "outputs": [],
   "source": [
    "# Counting edible and poisionus mushrooms\n",
    "count = data['Mushroom_Class'].value_counts()\n",
    "count"
   ]
  },
  {
   "cell_type": "code",
   "execution_count": null,
   "id": "5a01a015",
   "metadata": {},
   "outputs": [],
   "source": [
    "0    4208\n",
    "1    3916\n",
    "Name: Mushroom_Class, dtype: int64"
   ]
  },
  {
   "cell_type": "code",
   "execution_count": null,
   "id": "4eb3b56e",
   "metadata": {},
   "outputs": [],
   "source": [
    "# Converting two predictor into dummy variables\n",
    "m_color = pd.Series(data['Cap_Color'])\n",
    "c = pd.get_dummies(m_color)\n",
    "\n",
    "odor = pd.Series(data['Odor'])\n",
    "o = pd.get_dummies(odor)\n",
    "\n",
    "# Combining both into a new column\n",
    "mushroom_data = pd.concat([c, o, data['Mushroom_Class']], axis = 1)\n",
    "\n",
    "mushroom_data.head(5)"
   ]
  },
  {
   "cell_type": "code",
   "execution_count": null,
   "id": "0b4b055c",
   "metadata": {},
   "outputs": [],
   "source": [
    "\t0\t1\t2\t3\t4\t5\t6\t7\t8\t9\t0\t1\t2\t3\t4\t5\t6\t7\t8\tMushroom_Class\n",
    "0\t1\t0\t0\t0\t0\t0\t0\t0\t0\t0\t0\t0\t0\t0\t0\t0\t0\t1\t0\t1\n",
    "1\t0\t0\t0\t0\t0\t0\t0\t0\t0\t1\t1\t0\t0\t0\t0\t0\t0\t0\t0\t0\n",
    "2\t0\t0\t0\t0\t0\t0\t0\t0\t1\t0\t0\t1\t0\t0\t0\t0\t0\t0\t0\t0\n",
    "3\t0\t0\t0\t0\t0\t0\t0\t0\t1\t0\t0\t0\t0\t0\t0\t0\t0\t1\t0\t1\n",
    "4\t0\t0\t0\t1\t0\t0\t0\t0\t0\t0\t0\t0\t0\t0\t0\t0\t1\t0\t0\t0"
   ]
  },
  {
   "cell_type": "code",
   "execution_count": null,
   "id": "5ebc6adc",
   "metadata": {},
   "outputs": [],
   "source": [
    "# counting data shapes. result = 8124 rows and 20 columns\n",
    "mushroom_data.shape"
   ]
  },
  {
   "cell_type": "code",
   "execution_count": null,
   "id": "c61f63f7",
   "metadata": {},
   "outputs": [],
   "source": [
    "(8124, 20)"
   ]
  },
  {
   "cell_type": "code",
   "execution_count": null,
   "id": "6093e3ce",
   "metadata": {},
   "outputs": [],
   "source": [
    "x = mushroom_data.iloc[:, :-1].values # defining x values for training model\n",
    "y = mushroom_data.iloc[:, 1].values # defining y value for training model\n",
    "X_train, X_test, Y_train, Y_test = ttsplit(x,y, random_state=1)"
   ]
  },
  {
   "cell_type": "code",
   "execution_count": null,
   "id": "070b6c98",
   "metadata": {},
   "outputs": [],
   "source": [
    "print(X_train.shape)\n",
    "print(X_test.shape)"
   ]
  },
  {
   "cell_type": "markdown",
   "id": "1a56b05b",
   "metadata": {},
   "source": [
    "(6093, 19)\n",
    "\n",
    "(2031, 19)"
   ]
  },
  {
   "cell_type": "code",
   "execution_count": null,
   "id": "f09a13af",
   "metadata": {},
   "outputs": [],
   "source": [
    "print(Y_train.shape)\n",
    "print(Y_test.shape)"
   ]
  },
  {
   "cell_type": "code",
   "execution_count": null,
   "id": "24230a1a",
   "metadata": {},
   "outputs": [],
   "source": [
    "(6093,)\n",
    "\n",
    "(2031,)"
   ]
  },
  {
   "cell_type": "code",
   "execution_count": null,
   "id": "7f6c32c6",
   "metadata": {},
   "outputs": [],
   "source": [
    "lr = sklearn.linear_model.LinearRegression()\n",
    "lr.fit(X_train, Y_train)\n",
    "y_pred = lr.predict(X_test)\n",
    "t = [1,0]\n",
    "p = [1,0]\n",
    "print(sklearn.metrics.mean_absolute_error(t,p))\n",
    "print(sklearn.metrics.mean_squared_error(t, p))\n",
    "print(np.sqrt(sklearn.metrics.mean_squared_error(t, p)))"
   ]
  },
  {
   "cell_type": "markdown",
   "id": "430a607b",
   "metadata": {},
   "source": [
    "0.0\n",
    "\n",
    "0.0\n",
    "\n",
    "0.0"
   ]
  },
  {
   "cell_type": "code",
   "execution_count": null,
   "id": "8df1d2d3",
   "metadata": {},
   "outputs": [],
   "source": [
    "print(np.sqrt(metrics.mean_squared_error(Y_test, y_pred)))"
   ]
  },
  {
   "cell_type": "markdown",
   "id": "eb917c71",
   "metadata": {},
   "source": [
    "2.040336575497588e-15"
   ]
  },
  {
   "cell_type": "code",
   "execution_count": null,
   "id": "deb19722",
   "metadata": {},
   "outputs": [],
   "source": [
    "# Train and Test with \"CAP COLOR\" feature\n",
    "X = mushroom_data.iloc[:, 0:9].values\n",
    "Y = mushroom_data.iloc[:, 1].values\n",
    "\n",
    "X_train, X_test, Y_train, Y_test = sklearn.model_selection.train_test_split(X, Y, random_state=1)\n",
    "lr.fit(X_train, Y_train)\n",
    "Y_pred = lr.predict(X_test)\n",
    "\n",
    "print(np.sqrt(metrics.mean_squared_error(Y_test, Y_pred)))"
   ]
  },
  {
   "cell_type": "markdown",
   "id": "7aacd966",
   "metadata": {},
   "source": [
    "2.133205248004342e-15"
   ]
  },
  {
   "cell_type": "code",
   "execution_count": null,
   "id": "9dd298e5",
   "metadata": {},
   "outputs": [],
   "source": [
    "# Train and Test with \"ODOR\" feature \n",
    "X = mushroom_data.iloc[:, 10:18].values\n",
    "Y = mushroom_data.iloc[:, 1].values\n",
    "\n",
    "X_train, X_test, Y_train, Y_test = sklearn.model_selection.train_test_split(X, Y, random_state=1)\n",
    "lr.fit(X_train, Y_train)\n",
    "Y_pred = lr.predict(X_test)\n",
    "\n",
    "print(np.sqrt(metrics.mean_squared_error(Y_test, Y_pred)))"
   ]
  },
  {
   "cell_type": "markdown",
   "id": "e6b40fb9",
   "metadata": {},
   "source": [
    "0.14928001774973673"
   ]
  },
  {
   "cell_type": "markdown",
   "id": "770d99eb",
   "metadata": {},
   "source": [
    "We can use the ODOR feature to predict edible or poisonous mushroom because the square root is less than COLOR error. And less error means a better or more accurate prediction."
   ]
  }
 ],
 "metadata": {
  "kernelspec": {
   "display_name": "Python 3 (ipykernel)",
   "language": "python",
   "name": "python3"
  },
  "language_info": {
   "codemirror_mode": {
    "name": "ipython",
    "version": 3
   },
   "file_extension": ".py",
   "mimetype": "text/x-python",
   "name": "python",
   "nbconvert_exporter": "python",
   "pygments_lexer": "ipython3",
   "version": "3.9.7"
  }
 },
 "nbformat": 4,
 "nbformat_minor": 5
}
